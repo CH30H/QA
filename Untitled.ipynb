{
 "cells": [
  {
   "cell_type": "markdown",
   "metadata": {},
   "source": [
    "step1:\n",
    "将原来6G的xml文件切分成平均1M的小文档"
   ]
  },
  {
   "cell_type": "code",
   "execution_count": 241,
   "metadata": {
    "collapsed": true
   },
   "outputs": [],
   "source": [
    "RUN = False\n",
    "if(RUN):  \n",
    "    fin = open('zhwiki-20171020-pages-articles-multistream.xml',encoding='utf8')\n",
    "    for i in range(10000000):      \n",
    "        readin = fin.readlines(1000*1000)\n",
    "        if(not readin):\n",
    "            break\n",
    "        fout = open('parts/part_'+str(i),'w',encoding = 'utf8')\n",
    "        fout.writelines(readin)\n",
    "        # fout.writelines(re.sub(\"[\\[\\]\\'\\\"\\@#$%^&*()<>：{}|/_.+-—，,。!！ ？、~@#￥%……&*（）]+\", \"\",s))\n",
    "        fout.close()\n",
    "    fin.close()"
   ]
  },
  {
   "cell_type": "markdown",
   "metadata": {},
   "source": [
    "判断一个unicode是否为汉字"
   ]
  },
  {
   "cell_type": "code",
   "execution_count": 242,
   "metadata": {
    "collapsed": true
   },
   "outputs": [],
   "source": [
    "def is_ch(uchar):\n",
    "        \"\"\"判断一个unicode是否是汉字\"\"\"\n",
    "        if uchar >= u'\\u4e00' and uchar<=u'\\u9fa5':\n",
    "                return True\n",
    "        else:\n",
    "                return False"
   ]
  },
  {
   "cell_type": "markdown",
   "metadata": {},
   "source": [
    "导入utf8编码表，构造一个dic，将汉字映射到整数"
   ]
  },
  {
   "cell_type": "code",
   "execution_count": 252,
   "metadata": {
    "scrolled": true
   },
   "outputs": [
    {
     "name": "stdout",
     "output_type": "stream",
     "text": [
      "20964\n"
     ]
    }
   ],
   "source": [
    "with open('GBK',encoding='utf8') as fin:\n",
    "    chList = []\n",
    "    for line in fin.readlines():\n",
    "        for word in line:\n",
    "            if(is_ch(word)):\n",
    "                chList.append(word)\n",
    "\n",
    "                \n",
    "chNum = len(chList)\n",
    "print(chNum)\n",
    "ch2int = {}\n",
    "idx = 0\n",
    "for w in chList:\n",
    "    ch2int[w] = idx\n",
    "    idx += 1\n"
   ]
  },
  {
   "cell_type": "markdown",
   "metadata": {},
   "source": [
    "定义类BitSet 用于集合运算"
   ]
  },
  {
   "cell_type": "code",
   "execution_count": 253,
   "metadata": {},
   "outputs": [],
   "source": [
    "class BitSet:\n",
    "    def __init__(self, elementNum):\n",
    "        self.bytesNum = round(elementNum/8)\n",
    "        self.set = bytearray(self.bytesNum)\n",
    "        \n",
    "    def insert(self, index):\n",
    "        if(index >= 0 and index>>3 < self.bytesNum):\n",
    "            self.set[index >> 3] = self.set[index >> 3] | (1 << int(index & 7)) \n",
    "            return True;\n",
    "        return False;\n",
    "    \n",
    "    def isElement(self, index):\n",
    "        if(index >= 0 and index>>3 < size and (array[index >> 3] & (1<<(index & 7)))):\n",
    "            return True\n",
    "        return False\n",
    "        \n",
    "    def AND(self, bs):\n",
    "        a = BitSet(self.bytesNum)\n",
    "        for i in range(self.bytesNum):\n",
    "            a.set[i] = self.set[i] & bs.set[i]\n",
    "        return a"
   ]
  },
  {
   "cell_type": "markdown",
   "metadata": {},
   "source": [
    "给每一个汉字创建倒排索引，对应包含该汉字的文档"
   ]
  },
  {
   "cell_type": "code",
   "execution_count": 299,
   "metadata": {},
   "outputs": [
    {
     "name": "stdout",
     "output_type": "stream",
     "text": [
      "615\n"
     ]
    }
   ],
   "source": [
    "partsNum = 4918\n",
    "bytesNum = round(partsNum/8)\n",
    "\n",
    "\n",
    "invertedIndex = [BitSet(partsNum) for i in range(chNum)]\n",
    "print(invertedIndex[0].bytesNum)"
   ]
  },
  {
   "cell_type": "markdown",
   "metadata": {},
   "source": [
    "插入"
   ]
  },
  {
   "cell_type": "code",
   "execution_count": 328,
   "metadata": {
    "scrolled": true
   },
   "outputs": [
    {
     "name": "stdout",
     "output_type": "stream",
     "text": [
      "0%  ||->\r"
     ]
    },
    {
     "ename": "KeyboardInterrupt",
     "evalue": "",
     "output_type": "error",
     "traceback": [
      "\u001b[1;31m---------------------------------------------------------------------------\u001b[0m",
      "\u001b[1;31mKeyboardInterrupt\u001b[0m                         Traceback (most recent call last)",
      "\u001b[1;32m<ipython-input-328-9de6aad14d61>\u001b[0m in \u001b[0;36m<module>\u001b[1;34m()\u001b[0m\n\u001b[0;32m      9\u001b[0m             \u001b[1;32mtry\u001b[0m\u001b[1;33m:\u001b[0m\u001b[1;33m\u001b[0m\u001b[0m\n\u001b[0;32m     10\u001b[0m                 \u001b[1;32mif\u001b[0m\u001b[1;33m(\u001b[0m\u001b[0mis_ch\u001b[0m\u001b[1;33m(\u001b[0m\u001b[0mword\u001b[0m\u001b[1;33m)\u001b[0m\u001b[1;33m)\u001b[0m\u001b[1;33m:\u001b[0m\u001b[1;33m\u001b[0m\u001b[0m\n\u001b[1;32m---> 11\u001b[1;33m                     \u001b[0minvertedIndex\u001b[0m\u001b[1;33m[\u001b[0m\u001b[0mch2int\u001b[0m\u001b[1;33m[\u001b[0m\u001b[0mword\u001b[0m\u001b[1;33m]\u001b[0m\u001b[1;33m]\u001b[0m\u001b[1;33m.\u001b[0m\u001b[0minsert\u001b[0m\u001b[1;33m(\u001b[0m\u001b[0mpartIdx\u001b[0m\u001b[1;33m)\u001b[0m\u001b[1;33m\u001b[0m\u001b[0m\n\u001b[0m\u001b[0;32m     12\u001b[0m             \u001b[1;32mexcept\u001b[0m \u001b[0mKeyError\u001b[0m \u001b[1;32mas\u001b[0m \u001b[0merr\u001b[0m\u001b[1;33m:\u001b[0m\u001b[1;33m\u001b[0m\u001b[0m\n\u001b[0;32m     13\u001b[0m                 \u001b[0mprint\u001b[0m\u001b[1;33m(\u001b[0m\u001b[1;34m'KEY ERROR'\u001b[0m\u001b[1;33m+\u001b[0m\u001b[0mstr\u001b[0m\u001b[1;33m(\u001b[0m\u001b[0merr\u001b[0m\u001b[1;33m)\u001b[0m\u001b[1;33m)\u001b[0m\u001b[1;33m\u001b[0m\u001b[0m\n",
      "\u001b[1;32m<ipython-input-253-240fe58585fc>\u001b[0m in \u001b[0;36minsert\u001b[1;34m(self, index)\u001b[0m\n\u001b[0;32m      5\u001b[0m \u001b[1;33m\u001b[0m\u001b[0m\n\u001b[0;32m      6\u001b[0m     \u001b[1;32mdef\u001b[0m \u001b[0minsert\u001b[0m\u001b[1;33m(\u001b[0m\u001b[0mself\u001b[0m\u001b[1;33m,\u001b[0m \u001b[0mindex\u001b[0m\u001b[1;33m)\u001b[0m\u001b[1;33m:\u001b[0m\u001b[1;33m\u001b[0m\u001b[0m\n\u001b[1;32m----> 7\u001b[1;33m         \u001b[1;32mif\u001b[0m\u001b[1;33m(\u001b[0m\u001b[0mindex\u001b[0m \u001b[1;33m>=\u001b[0m \u001b[1;36m0\u001b[0m \u001b[1;32mand\u001b[0m \u001b[0mindex\u001b[0m\u001b[1;33m>>\u001b[0m\u001b[1;36m3\u001b[0m \u001b[1;33m<\u001b[0m \u001b[0mself\u001b[0m\u001b[1;33m.\u001b[0m\u001b[0mbytesNum\u001b[0m\u001b[1;33m)\u001b[0m\u001b[1;33m:\u001b[0m\u001b[1;33m\u001b[0m\u001b[0m\n\u001b[0m\u001b[0;32m      8\u001b[0m             \u001b[0mself\u001b[0m\u001b[1;33m.\u001b[0m\u001b[0mset\u001b[0m\u001b[1;33m[\u001b[0m\u001b[0mindex\u001b[0m \u001b[1;33m>>\u001b[0m \u001b[1;36m3\u001b[0m\u001b[1;33m]\u001b[0m \u001b[1;33m=\u001b[0m \u001b[0mself\u001b[0m\u001b[1;33m.\u001b[0m\u001b[0mset\u001b[0m\u001b[1;33m[\u001b[0m\u001b[0mindex\u001b[0m \u001b[1;33m>>\u001b[0m \u001b[1;36m3\u001b[0m\u001b[1;33m]\u001b[0m \u001b[1;33m|\u001b[0m \u001b[1;33m(\u001b[0m\u001b[1;36m1\u001b[0m \u001b[1;33m<<\u001b[0m \u001b[0mint\u001b[0m\u001b[1;33m(\u001b[0m\u001b[0mindex\u001b[0m \u001b[1;33m&\u001b[0m \u001b[1;36m7\u001b[0m\u001b[1;33m)\u001b[0m\u001b[1;33m)\u001b[0m\u001b[1;33m\u001b[0m\u001b[0m\n\u001b[0;32m      9\u001b[0m             \u001b[1;32mreturn\u001b[0m \u001b[1;32mTrue\u001b[0m\u001b[1;33m;\u001b[0m\u001b[1;33m\u001b[0m\u001b[0m\n",
      "\u001b[1;31mKeyboardInterrupt\u001b[0m: "
     ]
    }
   ],
   "source": [
    "import sys,time\n",
    "\n",
    "for partIdx in range(partsNum):\n",
    "    bar = '#'*int((partIdx/partsNum)*50)\n",
    "    sys.stdout.write(str(int((partIdx/partsNum)*100))+'%  ||'+bar+'->'+\"\\r\")\n",
    "    sys.stdout.flush()\n",
    "    with open('parts/part_'+str(partIdx),encoding='utf8') as f:\n",
    "        for word in f.read():\n",
    "            try:\n",
    "                if(is_ch(word)):\n",
    "                    invertedIndex[ch2int[word]].insert(partIdx)\n",
    "            except KeyError as err:\n",
    "                print('KEY ERROR'+str(err))\n",
    "\n",
    "for chIdx in range(chNum):\n",
    "    bar = '#'*int((chIdx/chNum)*50)\n",
    "    sys.stdout.write(str(int((chIdx/chNum)*100))+'%  ||'+bar+'->'+\"\\r\")\n",
    "    sys.stdout.flush()\n",
    "    with open('iidx/ch_'+str(chIdx)+'.iidx','w',encoding='utf8') as f:\n",
    "        for i in invertedIndex[i].set:\n",
    "            f.write(str(i)+' ')"
   ]
  },
  {
   "cell_type": "code",
   "execution_count": 284,
   "metadata": {},
   "outputs": [
    {
     "data": {
      "text/plain": [
       "\"bytearray(b'\\\\x00\\\\x00\\\\x00\\\\x00\\\\x00')\""
      ]
     },
     "execution_count": 284,
     "metadata": {},
     "output_type": "execute_result"
    }
   ],
   "source": [
    "b = bytearray(5)\n",
    "str(b)"
   ]
  },
  {
   "cell_type": "code",
   "execution_count": 319,
   "metadata": {},
   "outputs": [
    {
     "name": "stdout",
     "output_type": "stream",
     "text": [
      "['0', '0', '0', '0', '0', '0', '192', '81', '255', '190', '219', '78', '93', '254', '102', '95', '219', '131', '251', '191', '255', '203', '142', '254', '102', '253', '236', '118', '121', '91', '252', '142', '243', '255', '255', '252', '136', '126', '223', '166', '6', '124', '111', '254', '115', '121', '243', '239', '184', '244', '115', '199', '60', '244', '124', '171', '230', '27', '247', '27', '73', '189', '30', '191', '179', '206', '121', '223', '191', '255', '222', '191', '254', '245', '182', '145', '110', '247', '254', '115', '229', '110', '247', '181', '166', '38', '194', '238', '159', '246', '56', '171', '223', '254', '247', '115', '221', '251', '190', '175', '239', '45', '252', '239', '157', '247', '191', '207', '179', '189', '121', '251', '135', '215', '182', '245', '174', '253', '55', '250', '127', '191', '77', '126', '251', '241', '77', '100', '254', '213', '243', '59', '62', '255', '253', '233', '251', '250', '252', '15', '60', '7', '191', '29', '165', '251', '255', '223', '171', '255', '251', '126', '251', '239', '121', '231', '126', '138', '126', '127', '221', '55', '251', '66', '197', '237', '238', '253', '159', '190', '239', '220', '221', '255', '126', '247', '102', '146', '254', '227', '75', '236', '127', '229', '242', '63', '121', '115', '255', '245', '190', '91', '57', '103', '24', '183', '175', '175', '34', '242', '159', '254', '41', '47', '223', '190', '101', '231', '194', '191', '151', '91', '252', '190', '210', '255', '187', '63', '109', '104', '145', '117', '51', '47', '188', '243', '121', '127', '255', '236', '174', '205', '255', '223', '245', '119', '250', '174', '246', '254', '73', '127', '223', '143', '113', '223', '115', '251', '162', '246', '143', '248', '202', '204', '251', '39', '199', '248', '211', '248', '164', '189', '111', '111', '35', '237', '127', '228', '247', '239', '126', '215', '173', '225', '241', '122', '63', '193', '189', '111', '221', '216', '133', '247', '147', '55', '255', '223', '122', '174', '125', '182', '111', '237', '63', '198', '199', '247', '109', '47', '103', '109', '215', '171', '55', '195', '141', '185', '253', '175', '115', '191', '255', '189', '255', '255', '203', '255', '251', '191', '249', '231', '247', '71', '94', '246', '52', '255', '122', '57', '219', '251', '189', '207', '212', '63', '118', '39', '119', '102', '25', '192', '191', '197', '28', '63', '230', '247', '141', '239', '255', '255', '195', '93', '126', '103', '63', '227', '251', '122', '63', '255', '250', '107', '174', '206', '217', '109', '223', '247', '125', '111', '231', '250', '221', '143', '191', '250', '249', '252', '127', '79', '247', '251', '116', '39', '233', '118', '239', '95', '47', '97', '175', '241', '31', '254', '47', '95', '175', '39', '238', '205', '43', '87', '255', '219', '253', '156', '223', '93', '254', '215', '255', '123', '255', '118', '235', '246', '59', '243', '23', '228', '254', '187', '103', '195', '183', '255', '235', '191', '238', '254', '175', '255', '207', '61', '251', '172', '21', '247', '239', '6', '109', '108', '216', '99', '155', '253', '221', '246', '114', '252', '84', '251', '249', '127', '247', '188', '159', '250', '254', '172', '253', '6', '239', '191', '255', '95', '250', '148', '195', '156', '223', '190', '255', '237', '161', '2', '192', '0', '3', '4', '2', '32', '0', '0', '0', '32', '5', '1', '0', '65', '1', '0', '0', '0', '1', '0', '1', '48', '33', '0', '32', '0', '32', '128', '8', '0', '2', '0', '16', '0', '0', '32', '17', '64', '0', '136', '16', '0', '0', '0', '0', '0', '0', '0', '16', '144', '0', '0', '128', '136', '0', '128', '64', '0', '152', '16', '68', '0', '0', '0', '0', '33', '0', '0', '0', '10', '33', '0', '0', '49', '0', '10', '0', '12', '0', '0', '8', '128', '0', '4', '0', '4', '2', '0', '0', '128', '0', '0', '0', '8', '0', '0', '0', '0', '0', '0', '0', '0', '0', '0', '0', '65', '16', '0', '64', '0', '0', '128', '34', '0', '32', '0', '16', '0', '8', '0', '0', '0', '44', '0', '0', '0', '32', '34', '0', '0', '0', '0', '8', '4', '0', '72', '55']\n",
      "bytearray(b'\\x00\\x00\\x00\\x00\\x00\\x00\\x00\\x00\\x00\\x00\\x00\\x00\\x00\\x00\\x00\\x00\\x00\\x00\\x00\\x00\\x00\\x00\\x00\\x00\\x00\\x00\\x00\\x00\\x00\\x00\\x00\\x00\\x00\\x00\\x00\\x00\\x00\\x00\\x00\\x00\\x00\\x00\\x00\\x00\\x00\\x00\\x00\\x00\\x00\\x00\\x00\\x00\\x00\\x00\\x00\\x00\\x00\\x00\\x00\\x00\\x00\\x00\\x00\\x00\\x00\\x00\\x00\\x00\\x00\\x00\\x00\\x00\\x00\\x00\\x00\\x00\\x00')\n"
     ]
    }
   ],
   "source": [
    "b = BitSet(bytesNum)\n",
    "with open('parts/part_'+str(0)+'.iidx',encoding='utf8') as f:\n",
    "    s = f.read()[:-1].split(' ')\n",
    "    \n",
    "print(s)\n",
    "for i in b.set:\n",
    "    i = int(s[i])\n",
    "\n",
    "print(b.set)"
   ]
  },
  {
   "cell_type": "code",
   "execution_count": 287,
   "metadata": {},
   "outputs": [
    {
     "data": {
      "text/plain": [
       "1140"
      ]
     },
     "execution_count": 287,
     "metadata": {},
     "output_type": "execute_result"
    }
   ],
   "source": []
  },
  {
   "cell_type": "code",
   "execution_count": 326,
   "metadata": {},
   "outputs": [
    {
     "ename": "TypeError",
     "evalue": "can't multiply sequence by non-int of type 'float'",
     "output_type": "error",
     "traceback": [
      "\u001b[1;31m---------------------------------------------------------------------------\u001b[0m",
      "\u001b[1;31mTypeError\u001b[0m                                 Traceback (most recent call last)",
      "\u001b[1;32m<ipython-input-326-5b4028815c65>\u001b[0m in \u001b[0;36m<module>\u001b[1;34m()\u001b[0m\n\u001b[1;32m----> 1\u001b[1;33m \u001b[1;34m'#'\u001b[0m\u001b[1;33m*\u001b[0m\u001b[1;36m0.5\u001b[0m\u001b[1;33m\u001b[0m\u001b[0m\n\u001b[0m",
      "\u001b[1;31mTypeError\u001b[0m: can't multiply sequence by non-int of type 'float'"
     ]
    }
   ],
   "source": [
    "'#'*0.5"
   ]
  },
  {
   "cell_type": "code",
   "execution_count": null,
   "metadata": {
    "collapsed": true
   },
   "outputs": [],
   "source": []
  }
 ],
 "metadata": {
  "kernelspec": {
   "display_name": "Python 3",
   "language": "python",
   "name": "python3"
  },
  "language_info": {
   "codemirror_mode": {
    "name": "ipython",
    "version": 3
   },
   "file_extension": ".py",
   "mimetype": "text/x-python",
   "name": "python",
   "nbconvert_exporter": "python",
   "pygments_lexer": "ipython3",
   "version": "3.6.3"
  }
 },
 "nbformat": 4,
 "nbformat_minor": 2
}
