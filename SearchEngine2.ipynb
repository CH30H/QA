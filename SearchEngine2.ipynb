{
 "cells": [
  {
   "cell_type": "markdown",
   "metadata": {},
   "source": [
    "导入词典"
   ]
  },
  {
   "cell_type": "code",
   "execution_count": 1,
   "metadata": {},
   "outputs": [
    {
     "name": "stdout",
     "output_type": "stream",
     "text": [
      "size of dict:  583280\n"
     ]
    }
   ],
   "source": [
    "word2int = {}\n",
    "idx = 0\n",
    "with open('dict/dict',encoding='utf8') as fin:\n",
    "    for line in fin.readlines():\n",
    "        word = line.split()[0]\n",
    "        if(word not in word2int):\n",
    "            word2int[word] = idx\n",
    "            idx += 1\n",
    "wordsNum = len(word2int)\n",
    "print('size of dict: ',len(word2int))\n",
    "\n",
    "with open('dict/dict_unique','w',encoding='utf8') as fout:\n",
    "    for i in word2int:\n",
    "        fout.write(i+'\\n')"
   ]
  },
  {
   "cell_type": "code",
   "execution_count": 2,
   "metadata": {
    "collapsed": true
   },
   "outputs": [],
   "source": [
    "class BitSet:\n",
    "    def __init__(self, elementNum):\n",
    "        self.bytesNum = round(elementNum/8)\n",
    "        self.set = bytearray(self.bytesNum)\n",
    "        \n",
    "    def insert(self, index):\n",
    "        if(index >= 0 and index>>3 < self.bytesNum):\n",
    "            self.set[index >> 3] = self.set[index >> 3] | (1 << int(index & 7)) \n",
    "            return True;\n",
    "        return False;\n",
    "    \n",
    "    def isElement(self, index):\n",
    "        if(index >= 0 and index>>3 < self.bytesNum and (self.set[index >> 3] & (1<<(index & 7)))):\n",
    "            return True\n",
    "        return False\n",
    "        \n",
    "    def AND(self, bs):\n",
    "        a = BitSet(self.bytesNum*8)\n",
    "        for i in range(self.bytesNum):\n",
    "            a.set[i] = self.set[i] & bs.set[i]\n",
    "        return a\n",
    "    \n",
    "import sys,time\n",
    "\n",
    "def processBar(index, totalNum):\n",
    "    bar = '#'*int((index/totalNum)*50)\n",
    "    sys.stdout.write(str(int((index/totalNum)*100))+'%  ||'+bar+'->'+str(index)+'/'+str(totalNum)+\"\\r\")\n",
    "    #sys.stdout.flush()\n",
    "\n",
    "def is_ch(uchar):\n",
    "        \"\"\"判断一个unicode是否是汉字\"\"\"\n",
    "        if uchar >= u'\\u4e00' and uchar<=u'\\u9fa5':\n",
    "                return True\n",
    "        else:\n",
    "                return False"
   ]
  },
  {
   "cell_type": "code",
   "execution_count": 3,
   "metadata": {},
   "outputs": [
    {
     "name": "stderr",
     "output_type": "stream",
     "text": [
      "Building prefix dict from the default dictionary ...\n",
      "Loading model from cache C:\\Users\\DELLT5~1\\AppData\\Local\\Temp\\jieba.cache\n",
      "Loading model cost 1.044 seconds.\n",
      "Prefix dict has been built succesfully.\n"
     ]
    }
   ],
   "source": [
    "import jieba\n",
    "jieba.load_userdict('dict/dict_unique')"
   ]
  },
  {
   "cell_type": "code",
   "execution_count": null,
   "metadata": {},
   "outputs": [],
   "source": [
    "partsNum = 4919\n",
    "\n",
    "RUN_iidx = 1\n",
    "if(RUN_iidx):\n",
    "    \n",
    "    invertedIndex = [BitSet(partsNum) for i in range(wordsNum)]\n",
    "    print('每个字的倒排索引表的字节数：',invertedIndex[0].bytesNum)\n",
    "    \n",
    "    for partIdx in range(partsNum):\n",
    "\n",
    "        processBar(partIdx, partsNum)\n",
    "\n",
    "        with open('parts/part_'+str(partIdx),encoding='utf8') as f:\n",
    "            content = f.read()\n",
    "            for word in jieba.cut_for_search(content):\n",
    "                try:\n",
    "                    if(is_ch(word[0])):\n",
    "                        invertedIndex[word2int[word]].insert(partIdx)\n",
    "                except KeyError as err:\n",
    "                    #print('KEY ERROR'+str(err))\n",
    "                    pass\n",
    "\n",
    "    for idx in range(wordsNum):    \n",
    "        processBar(idx, wordsNum)\n",
    "        with open('iidx/ch_'+str(idx)+'.iidx','w',encoding='utf8') as f:\n",
    "                for j in invertedIndex[idx].set:\n",
    "                    f.write(str(j)+' ')"
   ]
  },
  {
   "cell_type": "code",
   "execution_count": null,
   "metadata": {
    "collapsed": true
   },
   "outputs": [],
   "source": []
  }
 ],
 "metadata": {
  "kernelspec": {
   "display_name": "Python 3",
   "language": "python",
   "name": "python3"
  },
  "language_info": {
   "codemirror_mode": {
    "name": "ipython",
    "version": 3
   },
   "file_extension": ".py",
   "mimetype": "text/x-python",
   "name": "python",
   "nbconvert_exporter": "python",
   "pygments_lexer": "ipython3",
   "version": "3.6.3"
  }
 },
 "nbformat": 4,
 "nbformat_minor": 2
}
