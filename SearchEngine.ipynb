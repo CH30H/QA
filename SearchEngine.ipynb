{
 "cells": [
  {
   "cell_type": "markdown",
   "metadata": {},
   "source": [
    "step1:\n",
    "将原来6G的xml文件切分成平均1M的小文档"
   ]
  },
  {
   "cell_type": "code",
   "execution_count": 3,
   "metadata": {},
   "outputs": [
    {
     "name": "stdout",
     "output_type": "stream",
     "text": [
      "49125\n"
     ]
    }
   ],
   "source": [
    "RUN = False\n",
    "if(RUN):  \n",
    "    fin = open('zhwiki-20171020-pages-articles-multistream.xml',encoding='utf8')\n",
    "    for i in range(10000000):      \n",
    "        readin = fin.readlines(100*1000)\n",
    "        if(not readin):\n",
    "            break\n",
    "        fout = open('parts/part_'+str(i),'w',encoding = 'utf8')\n",
    "        fout.writelines(readin)\n",
    "        # fout.writelines(re.sub(\"[\\[\\]\\'\\\"\\@#$%^&*()<>：{}|/_.+-—，,。!！ ？、~@#￥%……&*（）]+\", \"\",s))\n",
    "        fout.close()\n",
    "    fin.close()\n",
    "    partsNum = i\n",
    "    print(partsNum)"
   ]
  },
  {
   "cell_type": "markdown",
   "metadata": {},
   "source": [
    "判断一个unicode是否为汉字"
   ]
  },
  {
   "cell_type": "code",
   "execution_count": 3,
   "metadata": {
    "collapsed": true
   },
   "outputs": [],
   "source": [
    "def is_ch(uchar):\n",
    "        \"\"\"判断一个unicode是否是汉字\"\"\"\n",
    "        if uchar >= u'\\u4e00' and uchar<=u'\\u9fa5':\n",
    "                return True\n",
    "        else:\n",
    "                return False"
   ]
  },
  {
   "cell_type": "markdown",
   "metadata": {},
   "source": [
    "导入utf8编码表，构造一个dic，将汉字映射到整数"
   ]
  },
  {
   "cell_type": "code",
   "execution_count": 4,
   "metadata": {
    "scrolled": true
   },
   "outputs": [
    {
     "name": "stdout",
     "output_type": "stream",
     "text": [
      "20902\n"
     ]
    }
   ],
   "source": [
    "with open('GBK',encoding='utf8') as fin:\n",
    "    chList = []\n",
    "    for line in fin.readlines():\n",
    "        for word in line:\n",
    "            if(is_ch(word)):\n",
    "                chList.append(word)\n",
    "\n",
    "                \n",
    "chNum = len(chList)\n",
    "print(chNum)\n",
    "ch2int = {}\n",
    "idx = 0\n",
    "with open('ch2int','w',encoding='utf8') as fout:  \n",
    "    for w in chList:\n",
    "        ch2int[w] = idx\n",
    "        fout.write(w+'\\t'+str(idx)+'\\n')\n",
    "        idx += 1\n"
   ]
  },
  {
   "cell_type": "markdown",
   "metadata": {},
   "source": [
    "定义类BitSet 用于集合运算"
   ]
  },
  {
   "cell_type": "code",
   "execution_count": 5,
   "metadata": {
    "collapsed": true
   },
   "outputs": [],
   "source": [
    "class BitSet:\n",
    "    def __init__(self, elementNum):\n",
    "        self.bytesNum = round(elementNum/8)\n",
    "        self.set = bytearray(self.bytesNum)\n",
    "        \n",
    "    def insert(self, index):\n",
    "        if(index >= 0 and index>>3 < self.bytesNum):\n",
    "            self.set[index >> 3] = self.set[index >> 3] | (1 << int(index & 7)) \n",
    "            return True;\n",
    "        return False;\n",
    "    \n",
    "    def isElement(self, index):\n",
    "        if(index >= 0 and index>>3 < size and (array[index >> 3] & (1<<(index & 7)))):\n",
    "            return True\n",
    "        return False\n",
    "        \n",
    "    def AND(self, bs):\n",
    "        a = BitSet(self.bytesNum*8)\n",
    "        for i in range(self.bytesNum):\n",
    "            a.set[i] = self.set[i] & bs.set[i]\n",
    "        return a"
   ]
  },
  {
   "cell_type": "markdown",
   "metadata": {},
   "source": [
    "给每一个汉字创建倒排索引，对应包含该汉字的文档"
   ]
  },
  {
   "cell_type": "code",
   "execution_count": 6,
   "metadata": {},
   "outputs": [
    {
     "name": "stdout",
     "output_type": "stream",
     "text": [
      "6141\n"
     ]
    }
   ],
   "source": [
    "partsNum = 49125\n",
    "bytesNum = round(partsNum/8)\n",
    "\n",
    "invertedIndex = [BitSet(partsNum) for i in range(chNum)]\n",
    "print(invertedIndex[0].bytesNum)"
   ]
  },
  {
   "cell_type": "markdown",
   "metadata": {},
   "source": [
    "显示进度条"
   ]
  },
  {
   "cell_type": "code",
   "execution_count": 7,
   "metadata": {
    "collapsed": true
   },
   "outputs": [],
   "source": [
    "import sys,time\n",
    "\n",
    "def processBar(index, totalNum):\n",
    "    bar = '#'*int((index/totalNum)*50)\n",
    "    sys.stdout.write(str(int((index/totalNum)*100))+'%  ||'+bar+'->'+\"\\r\")\n",
    "    #sys.stdout.flush()"
   ]
  },
  {
   "cell_type": "markdown",
   "metadata": {},
   "source": [
    "遍历所有文档的所有字符，建立倒排索引"
   ]
  },
  {
   "cell_type": "code",
   "execution_count": 21,
   "metadata": {
    "scrolled": true
   },
   "outputs": [
    {
     "name": "stdout",
     "output_type": "stream",
     "text": [
      "99%  ||#################################################->\r"
     ]
    }
   ],
   "source": [
    "\n",
    "#for partIdx in range(partsNum):\n",
    "for partIdx in range(100):   \n",
    "    processBar(partIdx, partsNum)\n",
    "    \n",
    "    with open('parts/part_'+str(partIdx),encoding='utf8') as f:\n",
    "        for word in f.read():\n",
    "            try:\n",
    "                if(is_ch(word)):\n",
    "                    invertedIndex[ch2int[word]].insert(partIdx)\n",
    "            except KeyError as err:\n",
    "                print('KEY ERROR'+str(err))\n",
    "\n",
    "for chIdx in range(chNum):    \n",
    "    processBar(chIdx, chNum)\n",
    "    with open('iidx/ch_'+str(chIdx)+'.iidx','w',encoding='utf8') as f:\n",
    "            for j in invertedIndex[chIdx].set:\n",
    "                f.write(str(j)+' ')"
   ]
  },
  {
   "cell_type": "markdown",
   "metadata": {},
   "source": [
    "测试：读取倒排索引"
   ]
  },
  {
   "cell_type": "code",
   "execution_count": 8,
   "metadata": {},
   "outputs": [
    {
     "name": "stdout",
     "output_type": "stream",
     "text": [
      "bytearray(b'\\x07\\x08\\x06\\x00\\x002\\n\\x0c\\x00\\x18\\x08\\x14\\x06\\x00\\x00\\x00\\x00\\x00\\x00\\x00')\n"
     ]
    }
   ],
   "source": [
    "def readIidx(bSet, file):\n",
    "    with open(file,encoding='utf8') as f:\n",
    "        s = f.read()[:-1].split(' ')\n",
    "    assert(len(s) == b.bytesNum)\n",
    "    for i in range(bSet.bytesNum):\n",
    "        bSet.set[i] = int(s[i])\n",
    "    \n",
    "b = BitSet(partsNum)\n",
    "f = 'iidx/ch_0.iidx'\n",
    "readIidx(b, f)\n",
    "print(b.set[:20])"
   ]
  },
  {
   "cell_type": "markdown",
   "metadata": {},
   "source": [
    "建立每个文档的 tf 表"
   ]
  },
  {
   "cell_type": "code",
   "execution_count": null,
   "metadata": {},
   "outputs": [],
   "source": [
    "# tf \n",
    "RUN_tf = False\n",
    "\n",
    "if(RUN_tf):\n",
    "    for partIdx in range(partsNum):\n",
    "\n",
    "        tf = [0.0 for i in range(chNum)]\n",
    "        total = 0\n",
    "\n",
    "        with open('parts/part_'+str(partIdx),encoding='utf8') as f:\n",
    "            for word in f.read():\n",
    "                if(is_ch(word)):\n",
    "                    tf[ch2int[word]] += 1\n",
    "                    total += 1\n",
    "\n",
    "        total = max(total, 1)\n",
    "        for i in range(chNum):\n",
    "            tf[i] /= total\n",
    "\n",
    "        with open('parts/tf/part_'+str(partIdx)+'.tf','w',encoding='utf8') as fout:\n",
    "            for i in tf:\n",
    "                fout.write(str(i)+' ')\n",
    "                \n",
    "        processBar(partIdx, partsNum)\n"
   ]
  },
  {
   "cell_type": "markdown",
   "metadata": {
    "collapsed": true
   },
   "source": [
    "计算每个单词的 idf 值"
   ]
  },
  {
   "cell_type": "code",
   "execution_count": 26,
   "metadata": {},
   "outputs": [
    {
     "data": {
      "text/plain": [
       "2"
      ]
     },
     "execution_count": 26,
     "metadata": {},
     "output_type": "execute_result"
    }
   ],
   "source": [
    "# idf(ch) = log(total DocumentNum / Num of documents containing ch)\n",
    "\n",
    "idf = [0.0 for i in range(chNum)]\n",
    "\n",
    "for chIdx in range(chNum):\n",
    "    num = 0\n",
    "    iidxFile = 'iidx/ch_'+str(chIdx)+'.iidx'\n",
    "    bs = BitSet(partsNum)\n",
    "    readIidx(bs, iidxFile)\n",
    "    for i in range(partsNum):\n",
    "        if(bs.isElement(i)):\n",
    "            num += 1\n",
    "    idf[chIdx] = log(partsNum/num)"
   ]
  },
  {
   "cell_type": "code",
   "execution_count": null,
   "metadata": {
    "collapsed": true
   },
   "outputs": [],
   "source": []
  }
 ],
 "metadata": {
  "kernelspec": {
   "display_name": "Python 3",
   "language": "python",
   "name": "python3"
  },
  "language_info": {
   "codemirror_mode": {
    "name": "ipython",
    "version": 3
   },
   "file_extension": ".py",
   "mimetype": "text/x-python",
   "name": "python",
   "nbconvert_exporter": "python",
   "pygments_lexer": "ipython3",
   "version": "3.6.3"
  }
 },
 "nbformat": 4,
 "nbformat_minor": 2
}
