{
 "cells": [
  {
   "cell_type": "code",
   "execution_count": 13,
   "metadata": {},
   "outputs": [],
   "source": [
    "class BitSet:\n",
    "    def __init__(self, elementNum):\n",
    "        self.bytesNum = round(elementNum/8)\n",
    "        self.set = bytearray(self.bytesNum)\n",
    "        \n",
    "    def insert(self, index):\n",
    "        if(index >= 0 and index>>3 < self.bytesNum):\n",
    "            self.set[index >> 3] = self.set[index >> 3] | (1 << int(index & 7)) \n",
    "            return True;\n",
    "        return False;\n",
    "    \n",
    "    def isElement(self, index):\n",
    "        if(index >= 0 and index>>3 < self.bytesNum and (self.set[index >> 3] & (1<<(index & 7)))):\n",
    "            return True\n",
    "        return False\n",
    "        \n",
    "    def AND(self, bs):\n",
    "        a = BitSet(self.bytesNum*8)\n",
    "        for i in range(self.bytesNum):\n",
    "            a.set[i] = self.set[i] & bs.set[i]\n",
    "        return a\n"
   ]
  },
  {
   "cell_type": "code",
   "execution_count": 11,
   "metadata": {
    "collapsed": true
   },
   "outputs": [],
   "source": [
    "def processBar(index, totalNum):\n",
    "    bar = '#'*int((index/totalNum)*50)\n",
    "    sys.stdout.write(str(int((index/totalNum)*100))+'%  ||'+bar+'->'+str(index)+'/'+str(totalNum)+\"\\r\")\n",
    "    #sys.stdout.flush()"
   ]
  },
  {
   "cell_type": "code",
   "execution_count": 12,
   "metadata": {
    "collapsed": true
   },
   "outputs": [],
   "source": [
    "def is_ch(uchar):\n",
    "        \"\"\"判断一个unicode是否是汉字\"\"\"\n",
    "        if uchar >= u'\\u4e00' and uchar<=u'\\u9fa5':\n",
    "                return True\n",
    "        else:\n",
    "                return False"
   ]
  },
  {
   "cell_type": "code",
   "execution_count": 45,
   "metadata": {},
   "outputs": [
    {
     "name": "stdout",
     "output_type": "stream",
     "text": [
      "size of dict:  583280\n"
     ]
    }
   ],
   "source": [
    "word2int = {}\n",
    "idx = 0\n",
    "with open('dict/dict',encoding='utf8') as fin:\n",
    "    for line in fin.readlines():\n",
    "        word = line.split(' ')[0]\n",
    "        if(word not in word2int):\n",
    "            word2int[word] = idx\n",
    "            idx += 1\n",
    "\n",
    "wordsNum = len(word2int)\n",
    "print('size of dict: ',len(word2int))"
   ]
  },
  {
   "cell_type": "code",
   "execution_count": 41,
   "metadata": {},
   "outputs": [],
   "source": [
    "import jieba\n",
    "jieba.load_userdict('dict/dict')"
   ]
  },
  {
   "cell_type": "code",
   "execution_count": 15,
   "metadata": {},
   "outputs": [],
   "source": [
    "def readIIDX(file):\n",
    "    with open(file,encoding='utf8') as f:\n",
    "        s = f.read()[:-1].split(' ')\n",
    "    bSet = BitSet(len(s)*8)\n",
    "    for i in range(bSet.bytesNum):\n",
    "        bSet.set[i] = int(s[i])\n",
    "    return bSet"
   ]
  },
  {
   "cell_type": "code",
   "execution_count": 55,
   "metadata": {
    "collapsed": true
   },
   "outputs": [],
   "source": [
    "pagesNum = 3029940 # 46*256*256+59*256+180 最后一个文件 pages/46/59/180\n",
    "\n",
    "partsNum = 47 # 分别位于pages/[0-46]\n",
    "\n",
    "def pageid2fpath(partID,id):\n",
    "    fpath = 'pages/'+str(partID)+'/'+\\\n",
    "            str(id>>8 & 255)+'/'+str(id&255)\n",
    "    return fpath\n",
    "\n",
    "def chid2fpath(partID,id): #partID = [0-46]\n",
    "    fpath = 'iidx/'+str(partID)+'/'+\\\n",
    "            str(id>>16 & 255)+'/'+str(id>>8 & 255)+'/'+str(id&255)+'.iidx'\n",
    "    return fpath "
   ]
  },
  {
   "cell_type": "code",
   "execution_count": 58,
   "metadata": {},
   "outputs": [
    {
     "name": "stdout",
     "output_type": "stream",
     "text": [
      "pages/8/74/1\n",
      "8192\n"
     ]
    }
   ],
   "source": [
    "print(pageid2fpath(8,18945))\n",
    "print(len(readIIDX(chid2fpath(5,word2int['没有'])).set))"
   ]
  },
  {
   "cell_type": "code",
   "execution_count": 59,
   "metadata": {
    "collapsed": true
   },
   "outputs": [],
   "source": [
    "def mask(bytes):\n",
    "    r = BitSet(bytes*8)\n",
    "    for i in range(bytes):\n",
    "        r.set[i] = 255\n",
    "    return r\n",
    "\n",
    "bsMask = mask(round(256*256/8)) # 掩码"
   ]
  },
  {
   "cell_type": "code",
   "execution_count": 92,
   "metadata": {
    "collapsed": true
   },
   "outputs": [],
   "source": [
    "stopWords = ['上','的','什么','什麼','是','大','第几',\\\n",
    "             '过','多少','多少次','？','哪','谁','哪里',\\\n",
    "            '哪个','哪种','哪位','哪座','指','和']\n",
    "\n",
    "def findDoc(query):\n",
    "    keyList = []\n",
    "    targets = [bsMask for i in range(partsNum)] #对每个部分读取倒排索引\n",
    "    for word in jieba.cut_for_search(query):\n",
    "        if(word not in stopWords):\n",
    "            for i in range(partsNum):\n",
    "                try:\n",
    "                    #print(word)\n",
    "                    keyList.append(word2int[word])\n",
    "                    targets[i] = targets[i].AND(readIIDX(chid2fpath(i,word2int[word])))\n",
    "                except KeyError as e:\n",
    "                    pass\n",
    "    result = []\n",
    "    for i in range(partsNum):\n",
    "        for j in range(pagesNum):\n",
    "            if(targets[i].isElement(j)):\n",
    "                result.append(pageid2fpath(i,j))  \n",
    "    #print('doc number: ',len(result))\n",
    "    return result"
   ]
  },
  {
   "cell_type": "code",
   "execution_count": 93,
   "metadata": {},
   "outputs": [
    {
     "name": "stdout",
     "output_type": "stream",
     "text": [
      "为当今世界著名的[[美国]][[网球]]女子巨星，网球史上最伟大的女子选手之一，    美国体育史上最佳女子网球选手（与[[克里斯·埃弗特|Chris Evert]]并列），    全世界第一位网球大满贯黑人女单冠军，单打最高世界排名第一，    23座大满贯女单冠军得主，网球史上第二位女子单打生涯全满贯得主。\n",
      "為當今世界著名的[[美國]][[網球]]女子巨星，網球史上最偉大的女子選手之一，    美國體育史上最佳女子網球選手（與[[克裡斯·埃弗特|Chris Evert]]併列），    全世界第一位網球大滿貫黑人女單冠軍，單打最高世界排名第一，    23座大滿貫女單冠軍得主，網球史上第二位女子單打生涯全滿貫得主。\n"
     ]
    }
   ],
   "source": [
    "from langconv import *\n",
    "\n",
    "line = '為当今世界著名的[[美國]][[網球]]女子巨星，網球史上最伟大的女子选手之一，\\\n",
    "    美國體育史上最佳女子網球选手（與[[克里斯·埃弗特|Chris Evert]]並列），\\\n",
    "    全世界第一位網球大滿貫黑人女單冠軍，單打最高世界排名第一，\\\n",
    "    23座大滿貫女單冠軍得主，網球史上第二位女子單打生涯全滿貫得主。'\n",
    "# 转换繁体到简体\n",
    "line = Converter('zh-hans').convert(line)\n",
    "print(line)\n",
    "# 转换简体到繁体\n",
    "line = Converter('zh-hant').convert(line)\n",
    "print(line)"
   ]
  },
  {
   "cell_type": "code",
   "execution_count": 94,
   "metadata": {
    "collapsed": true
   },
   "outputs": [],
   "source": [
    "def findLine(query, minLen=10, maxReturn=1):\n",
    "    s = []\n",
    "    docList = findDoc(query)[:10]\n",
    "    keywords = [word for word in jieba.cut_for_search(query)]\n",
    "    #keywords = '.'.join(jieba.cut(query,cut_all=False)).split('.')\n",
    "\n",
    "\n",
    "    for doc in docList:\n",
    "        with open(doc,encoding='utf8') as f:\n",
    "            for line in f.readlines():\n",
    "                if(len(line) > minLen):\n",
    "                    tf = {}\n",
    "                    for word in jieba.cut_for_search(line):\n",
    "                        if(word in keywords and word not in stopWords):\n",
    "                            tf[word] = 1 \n",
    "                    bingo = len(tf)\n",
    "                    s.append(('位于 '+doc+'   '+line,bingo))\n",
    "                    \n",
    "    query = Converter('zh-hant').convert(query)\n",
    "    docList = findDoc(query)[:10]\n",
    "    keywords = [word for word in jieba.cut_for_search(query)]\n",
    "    #print(keywords)\n",
    "\n",
    "    for doc in docList:\n",
    "        with open(doc,encoding='utf8') as f:\n",
    "            for line in f.readlines():\n",
    "                if(len(line) > minLen):\n",
    "                    tf = {}\n",
    "                    for word in jieba.cut_for_search(line):\n",
    "                        if(word in keywords and word not in stopWords):\n",
    "                            tf[word] = 1 \n",
    "                    bingo = len(tf)\n",
    "                    s.append(('位于 '+doc+'   '+line,bingo))\n",
    "    s = sorted(s,key=lambda x:x[1], reverse=1)\n",
    "    return [item[0] for item in s[:maxReturn]]"
   ]
  },
  {
   "cell_type": "code",
   "execution_count": 95,
   "metadata": {
    "collapsed": true
   },
   "outputs": [],
   "source": [
    "def showfile(fpath):\n",
    "    with open(fpath, encoding='utf8') as f:\n",
    "        print(f.read())"
   ]
  },
  {
   "cell_type": "code",
   "execution_count": 96,
   "metadata": {},
   "outputs": [],
   "source": [
    "#findLine('阿根廷国家足球队赢得过多少次美洲杯冠军',maxReturn=10)"
   ]
  },
  {
   "cell_type": "code",
   "execution_count": 97,
   "metadata": {},
   "outputs": [
    {
     "data": {
      "text/plain": [
       "['马尔代夫的第一大支柱产业是什么？',\n",
       " '澳大利亚是南半球面积第几大的国家？',\n",
       " '阿根廷国家足球队赢得过多少次美洲杯冠军？',\n",
       " '平均人口密度最高的大洲是？',\n",
       " '中国历史上最杰出的浪漫主义诗人是？',\n",
       " '甲午战争爆发的标志是？',\n",
       " '《华英字典》的作者是？',\n",
       " '《资治通鉴》的撰写一共耗时多少年？',\n",
       " '世界上首位从南坡登上珠穆朗玛峰的女性的国籍是？',\n",
       " '最后宣布废除奴隶制度的行政地区是？']"
      ]
     },
     "execution_count": 97,
     "metadata": {},
     "output_type": "execute_result"
    }
   ],
   "source": [
    "questions = []\n",
    "with open('wdm_assignment_3_samples.txt',encoding='utf8') as fin:\n",
    "    for line in fin.readlines():\n",
    "        questions.append(line.split('\\t')[0])\n",
    "\n",
    "questions[:10]"
   ]
  },
  {
   "cell_type": "code",
   "execution_count": 98,
   "metadata": {},
   "outputs": [
    {
     "name": "stdout",
     "output_type": "stream",
     "text": [
      "问: 马尔代夫的第一大支柱产业是什么？\n"
     ]
    },
    {
     "ename": "KeyboardInterrupt",
     "evalue": "",
     "output_type": "error",
     "traceback": [
      "\u001b[1;31m---------------------------------------------------------------------------\u001b[0m",
      "\u001b[1;31mKeyboardInterrupt\u001b[0m                         Traceback (most recent call last)",
      "\u001b[1;32m<ipython-input-98-995c46f6724f>\u001b[0m in \u001b[0;36m<module>\u001b[1;34m()\u001b[0m\n\u001b[0;32m      1\u001b[0m \u001b[1;32mfor\u001b[0m \u001b[0mq\u001b[0m \u001b[1;32min\u001b[0m \u001b[0mquestions\u001b[0m\u001b[1;33m:\u001b[0m\u001b[1;33m\u001b[0m\u001b[0m\n\u001b[0;32m      2\u001b[0m     \u001b[0mprint\u001b[0m\u001b[1;33m(\u001b[0m\u001b[1;34m'问:'\u001b[0m\u001b[1;33m,\u001b[0m\u001b[0mq\u001b[0m\u001b[1;33m)\u001b[0m\u001b[1;33m\u001b[0m\u001b[0m\n\u001b[1;32m----> 3\u001b[1;33m     \u001b[0mprint\u001b[0m\u001b[1;33m(\u001b[0m\u001b[1;34m'答:'\u001b[0m\u001b[1;33m,\u001b[0m\u001b[0mfindLine\u001b[0m\u001b[1;33m(\u001b[0m\u001b[0mq\u001b[0m\u001b[1;33m,\u001b[0m\u001b[0mmaxReturn\u001b[0m\u001b[1;33m=\u001b[0m\u001b[1;36m1\u001b[0m\u001b[1;33m)\u001b[0m\u001b[1;33m)\u001b[0m\u001b[1;33m\u001b[0m\u001b[0m\n\u001b[0m\u001b[0;32m      4\u001b[0m     \u001b[0mprint\u001b[0m\u001b[1;33m(\u001b[0m\u001b[1;33m)\u001b[0m\u001b[1;33m\u001b[0m\u001b[0m\n",
      "\u001b[1;32m<ipython-input-94-767ae546d16d>\u001b[0m in \u001b[0;36mfindLine\u001b[1;34m(query, minLen, maxReturn)\u001b[0m\n\u001b[0;32m      1\u001b[0m \u001b[1;32mdef\u001b[0m \u001b[0mfindLine\u001b[0m\u001b[1;33m(\u001b[0m\u001b[0mquery\u001b[0m\u001b[1;33m,\u001b[0m \u001b[0mminLen\u001b[0m\u001b[1;33m=\u001b[0m\u001b[1;36m10\u001b[0m\u001b[1;33m,\u001b[0m \u001b[0mmaxReturn\u001b[0m\u001b[1;33m=\u001b[0m\u001b[1;36m1\u001b[0m\u001b[1;33m)\u001b[0m\u001b[1;33m:\u001b[0m\u001b[1;33m\u001b[0m\u001b[0m\n\u001b[0;32m      2\u001b[0m     \u001b[0ms\u001b[0m \u001b[1;33m=\u001b[0m \u001b[1;33m[\u001b[0m\u001b[1;33m]\u001b[0m\u001b[1;33m\u001b[0m\u001b[0m\n\u001b[1;32m----> 3\u001b[1;33m     \u001b[0mdocList\u001b[0m \u001b[1;33m=\u001b[0m \u001b[0mfindDoc\u001b[0m\u001b[1;33m(\u001b[0m\u001b[0mquery\u001b[0m\u001b[1;33m)\u001b[0m\u001b[1;33m[\u001b[0m\u001b[1;33m:\u001b[0m\u001b[1;36m10\u001b[0m\u001b[1;33m]\u001b[0m\u001b[1;33m\u001b[0m\u001b[0m\n\u001b[0m\u001b[0;32m      4\u001b[0m     \u001b[0mkeywords\u001b[0m \u001b[1;33m=\u001b[0m \u001b[1;33m[\u001b[0m\u001b[0mword\u001b[0m \u001b[1;32mfor\u001b[0m \u001b[0mword\u001b[0m \u001b[1;32min\u001b[0m \u001b[0mjieba\u001b[0m\u001b[1;33m.\u001b[0m\u001b[0mcut_for_search\u001b[0m\u001b[1;33m(\u001b[0m\u001b[0mquery\u001b[0m\u001b[1;33m)\u001b[0m\u001b[1;33m]\u001b[0m\u001b[1;33m\u001b[0m\u001b[0m\n\u001b[0;32m      5\u001b[0m     \u001b[1;31m#keywords = '.'.join(jieba.cut(query,cut_all=False)).split('.')\u001b[0m\u001b[1;33m\u001b[0m\u001b[1;33m\u001b[0m\u001b[0m\n",
      "\u001b[1;32m<ipython-input-92-2d8d64b5cf20>\u001b[0m in \u001b[0;36mfindDoc\u001b[1;34m(query)\u001b[0m\n\u001b[0;32m     16\u001b[0m     \u001b[1;32mfor\u001b[0m \u001b[0mi\u001b[0m \u001b[1;32min\u001b[0m \u001b[0mrange\u001b[0m\u001b[1;33m(\u001b[0m\u001b[0mpartsNum\u001b[0m\u001b[1;33m)\u001b[0m\u001b[1;33m:\u001b[0m\u001b[1;33m\u001b[0m\u001b[0m\n\u001b[0;32m     17\u001b[0m         \u001b[1;32mfor\u001b[0m \u001b[0mj\u001b[0m \u001b[1;32min\u001b[0m \u001b[0mrange\u001b[0m\u001b[1;33m(\u001b[0m\u001b[0mpagesNum\u001b[0m\u001b[1;33m)\u001b[0m\u001b[1;33m:\u001b[0m\u001b[1;33m\u001b[0m\u001b[0m\n\u001b[1;32m---> 18\u001b[1;33m             \u001b[1;32mif\u001b[0m\u001b[1;33m(\u001b[0m\u001b[0mtargets\u001b[0m\u001b[1;33m[\u001b[0m\u001b[0mi\u001b[0m\u001b[1;33m]\u001b[0m\u001b[1;33m.\u001b[0m\u001b[0misElement\u001b[0m\u001b[1;33m(\u001b[0m\u001b[0mj\u001b[0m\u001b[1;33m)\u001b[0m\u001b[1;33m)\u001b[0m\u001b[1;33m:\u001b[0m\u001b[1;33m\u001b[0m\u001b[0m\n\u001b[0m\u001b[0;32m     19\u001b[0m                 \u001b[0mresult\u001b[0m\u001b[1;33m.\u001b[0m\u001b[0mappend\u001b[0m\u001b[1;33m(\u001b[0m\u001b[0mpageid2fpath\u001b[0m\u001b[1;33m(\u001b[0m\u001b[0mi\u001b[0m\u001b[1;33m,\u001b[0m\u001b[0mj\u001b[0m\u001b[1;33m)\u001b[0m\u001b[1;33m)\u001b[0m\u001b[1;33m\u001b[0m\u001b[0m\n\u001b[0;32m     20\u001b[0m     \u001b[1;31m#print('doc number: ',len(result))\u001b[0m\u001b[1;33m\u001b[0m\u001b[1;33m\u001b[0m\u001b[0m\n",
      "\u001b[1;32m<ipython-input-13-bb09985d4938>\u001b[0m in \u001b[0;36misElement\u001b[1;34m(self, index)\u001b[0m\n\u001b[0;32m     11\u001b[0m \u001b[1;33m\u001b[0m\u001b[0m\n\u001b[0;32m     12\u001b[0m     \u001b[1;32mdef\u001b[0m \u001b[0misElement\u001b[0m\u001b[1;33m(\u001b[0m\u001b[0mself\u001b[0m\u001b[1;33m,\u001b[0m \u001b[0mindex\u001b[0m\u001b[1;33m)\u001b[0m\u001b[1;33m:\u001b[0m\u001b[1;33m\u001b[0m\u001b[0m\n\u001b[1;32m---> 13\u001b[1;33m         \u001b[1;32mif\u001b[0m\u001b[1;33m(\u001b[0m\u001b[0mindex\u001b[0m \u001b[1;33m>=\u001b[0m \u001b[1;36m0\u001b[0m \u001b[1;32mand\u001b[0m \u001b[0mindex\u001b[0m\u001b[1;33m>>\u001b[0m\u001b[1;36m3\u001b[0m \u001b[1;33m<\u001b[0m \u001b[0mself\u001b[0m\u001b[1;33m.\u001b[0m\u001b[0mbytesNum\u001b[0m \u001b[1;32mand\u001b[0m \u001b[1;33m(\u001b[0m\u001b[0mself\u001b[0m\u001b[1;33m.\u001b[0m\u001b[0mset\u001b[0m\u001b[1;33m[\u001b[0m\u001b[0mindex\u001b[0m \u001b[1;33m>>\u001b[0m \u001b[1;36m3\u001b[0m\u001b[1;33m]\u001b[0m \u001b[1;33m&\u001b[0m \u001b[1;33m(\u001b[0m\u001b[1;36m1\u001b[0m\u001b[1;33m<<\u001b[0m\u001b[1;33m(\u001b[0m\u001b[0mindex\u001b[0m \u001b[1;33m&\u001b[0m \u001b[1;36m7\u001b[0m\u001b[1;33m)\u001b[0m\u001b[1;33m)\u001b[0m\u001b[1;33m)\u001b[0m\u001b[1;33m)\u001b[0m\u001b[1;33m:\u001b[0m\u001b[1;33m\u001b[0m\u001b[0m\n\u001b[0m\u001b[0;32m     14\u001b[0m             \u001b[1;32mreturn\u001b[0m \u001b[1;32mTrue\u001b[0m\u001b[1;33m\u001b[0m\u001b[0m\n\u001b[0;32m     15\u001b[0m         \u001b[1;32mreturn\u001b[0m \u001b[1;32mFalse\u001b[0m\u001b[1;33m\u001b[0m\u001b[0m\n",
      "\u001b[1;31mKeyboardInterrupt\u001b[0m: "
     ]
    }
   ],
   "source": [
    "for q in questions:\n",
    "    print('问:',q)\n",
    "    print('答:',findLine(q,maxReturn=1))\n",
    "    print()"
   ]
  },
  {
   "cell_type": "code",
   "execution_count": null,
   "metadata": {
    "collapsed": true
   },
   "outputs": [],
   "source": []
  }
 ],
 "metadata": {
  "kernelspec": {
   "display_name": "Python 3",
   "language": "python",
   "name": "python3"
  },
  "language_info": {
   "codemirror_mode": {
    "name": "ipython",
    "version": 3
   },
   "file_extension": ".py",
   "mimetype": "text/x-python",
   "name": "python",
   "nbconvert_exporter": "python",
   "pygments_lexer": "ipython3",
   "version": "3.6.3"
  }
 },
 "nbformat": 4,
 "nbformat_minor": 2
}
